{
  "cells": [
    {
      "attachments": {},
      "cell_type": "markdown",
      "metadata": {
        "id": "at4KhNda0wN-"
      },
      "source": [
        "# Segmentación - DIP"
      ]
    },
    {
      "cell_type": "markdown",
      "metadata": {
        "id": "EGAnrpPM03h3"
      },
      "source": [
        "## Configuración del ambiente"
      ]
    },
    {
      "cell_type": "code",
      "execution_count": null,
      "metadata": {
        "id": "N_9tRuAy0wOD"
      },
      "outputs": [],
      "source": [
        "# Descarga de las imágenes con las que vamos a trabajar\n",
        "!wget -q https://github.com/MoraRubio/dip-uam/raw/main/img/lenna.jpg https://github.com/MoraRubio/dip-uam/raw/main/img/pcb.png https://github.com/MoraRubio/dip-uam/raw/main/img/building.jpg https://github.com/MoraRubio/dip-uam/raw/main/img/raptor.png https://github.com/MoraRubio/dip-uam/raw/main/img/circuit.png"
      ]
    },
    {
      "cell_type": "code",
      "execution_count": null,
      "metadata": {
        "id": "KuCZYNHV0wOB"
      },
      "outputs": [],
      "source": [
        "# Importamos las librerías necesarias\n",
        "import cv2\n",
        "import matplotlib.pyplot as plt\n",
        "import numpy as np\n",
        "from skimage import data\n",
        "\n",
        "%matplotlib inline\n",
        "\n",
        "def plot_images(img, title=None, font_size=None, axis=\"off\", color=cv2.COLOR_BGR2RGB):\n",
        "    n_imgs = len(img)\n",
        "    if  n_imgs > 1:\n",
        "        _, axs = plt.subplots(1, n_imgs, **{'figsize':(3*n_imgs, 3)})\n",
        "        axs = axs.ravel()\n",
        "        for i in range(n_imgs):\n",
        "            if title and (len(title) == n_imgs):\n",
        "                axs[i].set_title(title[i], fontsize=font_size)\n",
        "            axs[i].axis(axis)\n",
        "            if len(img[i].shape) == 2:\n",
        "              axs[i].imshow(img[i], cmap=\"gray\")\n",
        "            else:\n",
        "              axs[i].imshow(cv2.cvtColor(img[i], color))\n",
        "        plt.tight_layout()    \n",
        "    else:\n",
        "        plt.title(title, fontsize=font_size)\n",
        "        plt.axis(axis)\n",
        "        if len(img[0].shape) == 2:\n",
        "          plt.imshow(img[0], cmap=\"gray\")\n",
        "        else:\n",
        "          plt.imshow(cv2.cvtColor(img[0], color))"
      ]
    },
    {
      "cell_type": "code",
      "execution_count": null,
      "metadata": {
        "id": "pH13GM1A3Ygd"
      },
      "outputs": [],
      "source": [
        "lenna = cv2.resize(cv2.imread(\"../dip-uam/img/lenna.jpg\", cv2.IMREAD_GRAYSCALE), (512, 512))\n",
        "pcb = cv2.resize(cv2.imread(\"../dip-uam/img/pcb.png\", cv2.IMREAD_GRAYSCALE), (512, 512))\n",
        "building = cv2.imread(\"../dip-uam/img/building.jpg\", cv2.IMREAD_GRAYSCALE)\n",
        "brick = data.brick()\n",
        "cell = data.cell()\n",
        "_, binary_raptor = cv2.threshold(cv2.imread(\"../dip-uam/img/raptor.png\", cv2.IMREAD_GRAYSCALE), 127, 255, cv2.THRESH_BINARY)\n",
        "_, binary_circuit = cv2.threshold(cv2.imread(\"../dip-uam/img/circuit.png\", cv2.IMREAD_GRAYSCALE), 127, 255, cv2.THRESH_BINARY)\n",
        "plot_images([lenna, pcb, building, brick, cell, binary_raptor, binary_circuit])"
      ]
    },
    {
      "attachments": {},
      "cell_type": "markdown",
      "metadata": {},
      "source": [
        "## Detección de puntos aislados"
      ]
    },
    {
      "cell_type": "code",
      "execution_count": null,
      "metadata": {},
      "outputs": [],
      "source": [
        "laplacian = np.array([[-1, -1, -1],\n",
        "                      [-1,  8, -1],\n",
        "                      [-1, -1, -1]], dtype=np.float32)\n",
        "\n",
        "pcb_lap = cv2.filter2D(pcb[20:100,250:350], -1, laplacian)\n",
        "plot_images([pcb[20:100,250:350], pcb_lap, pcb_lap > 50])"
      ]
    },
    {
      "attachments": {},
      "cell_type": "markdown",
      "metadata": {},
      "source": [
        "## Detección de líneas"
      ]
    },
    {
      "cell_type": "code",
      "execution_count": null,
      "metadata": {},
      "outputs": [],
      "source": [
        "laplacian = np.array([[1, 1, 1],\n",
        "                      [1,-8, 1],\n",
        "                      [1, 1, 1]], dtype=np.float32)\n",
        "\n",
        "circuit_lap = cv2.filter2D(binary_circuit, -1, laplacian)\n",
        "plot_images([binary_circuit, circuit_lap])"
      ]
    },
    {
      "attachments": {},
      "cell_type": "markdown",
      "metadata": {},
      "source": [
        "### Líneas verticales"
      ]
    },
    {
      "cell_type": "code",
      "execution_count": null,
      "metadata": {},
      "outputs": [],
      "source": [
        "def vertical_line_detector(size):\n",
        "    kernel = np.full((size, size), fill_value=-1)\n",
        "    center = size//2\n",
        "    kernel[:,center] = 2\n",
        "    return kernel"
      ]
    },
    {
      "cell_type": "code",
      "execution_count": null,
      "metadata": {},
      "outputs": [],
      "source": [
        "vertical = vertical_line_detector(3)\n",
        "circuit_lap1 = cv2.filter2D(binary_circuit, ddepth=cv2.CV_8U, kernel=vertical)\n",
        "circuit_lap = cv2.filter2D(binary_circuit, ddepth=cv2.CV_64F, kernel=vertical)\n",
        "plot_images([binary_circuit, circuit_lap, circuit_lap1])"
      ]
    },
    {
      "attachments": {},
      "cell_type": "markdown",
      "metadata": {},
      "source": [
        "### Líneas diagonales"
      ]
    },
    {
      "cell_type": "code",
      "execution_count": null,
      "metadata": {},
      "outputs": [],
      "source": [
        "def diagonal_line_detector(size):\n",
        "    kernel = np.full((size, size), fill_value=-1)\n",
        "    np.fill_diagonal(kernel, 2)\n",
        "    return kernel"
      ]
    },
    {
      "cell_type": "code",
      "execution_count": null,
      "metadata": {},
      "outputs": [],
      "source": [
        "diagonal = diagonal_line_detector(7)\n",
        "circuit_lap = cv2.filter2D(binary_circuit, -1, diagonal)\n",
        "plot_images([binary_circuit, circuit_lap])"
      ]
    },
    {
      "attachments": {},
      "cell_type": "markdown",
      "metadata": {},
      "source": [
        "## Detección de bordes\n",
        "\n",
        "### Básica\n",
        "Utilizando operadores de gradiente o de primera derivada como los Operadores Sobel:\n",
        "\n",
        "<img src=\"https://github.com/MoraRubio/dip-uam/blob/main/src/sobel.png?raw=true\" alt=\"Kernels laplacianos\" style=\"height: 200px; width:400px;\"/>"
      ]
    },
    {
      "cell_type": "code",
      "execution_count": null,
      "metadata": {},
      "outputs": [],
      "source": [
        "sobelx = cv2.Sobel(src=brick, ddepth=cv2.CV_8U, dx=1, dy=0, ksize=5) # Sobel Edge Detection on the X axis\n",
        "sobely = cv2.Sobel(src=brick, ddepth=cv2.CV_8U, dx=0, dy=1, ksize=5) # Sobel Edge Detection on the Y axis\n",
        "sobelxy = cv2.Sobel(src=brick, ddepth=cv2.CV_8U, dx=1, dy=1, ksize=5) # Combined X and Y Sobel Edge Detection\n",
        "\n",
        "plot_images([brick, sobelx, sobely, sobelxy], [\"Original\", \"Sobel en la dirección x\", \"Sobel en la dirección y\", \"Sobel en la dirección x,y\"])"
      ]
    },
    {
      "cell_type": "code",
      "execution_count": null,
      "metadata": {},
      "outputs": [],
      "source": [
        "blurred_brick = cv2.blur(brick, (5, 5))\n",
        "\n",
        "sobelx = cv2.Sobel(src=blurred_brick, ddepth=cv2.CV_8U, dx=1, dy=0, ksize=5) # Sobel Edge Detection on the X axis\n",
        "sobely = cv2.Sobel(src=blurred_brick, ddepth=cv2.CV_8U, dx=0, dy=1, ksize=5) # Sobel Edge Detection on the Y axis\n",
        "sobelxy = cv2.Sobel(src=blurred_brick, ddepth=cv2.CV_64F, dx=1, dy=1, ksize=5) # Combined X and Y Sobel Edge Detection\n",
        "\n",
        "plot_images([blurred_brick, sobelx, sobely, sobelxy], [\"Blurred\", \"Sobel en la dirección x\", \"Sobel en la dirección y\", \"Sobel en la dirección x,y\"])"
      ]
    },
    {
      "cell_type": "code",
      "execution_count": null,
      "metadata": {},
      "outputs": [],
      "source": [
        "sobelx = cv2.Sobel(src=building[:800,:800], ddepth=cv2.CV_8U, dx=1, dy=0, ksize=5) # Sobel Edge Detection on the X axis\n",
        "sobely = cv2.Sobel(src=building[:800,:800], ddepth=cv2.CV_8U, dx=0, dy=1, ksize=5) # Sobel Edge Detection on the Y axis\n",
        "sobelxy = cv2.Sobel(src=building[:800,:800], ddepth=cv2.CV_8U, dx=1, dy=1, ksize=5) # Combined X and Y Sobel Edge Detection\n",
        "\n",
        "plot_images([building[:800,:800], sobelx, sobely, sobelxy], [\"Original\", \"Sobel en la dirección x\", \"Sobel en la dirección y\", \"Sobel en la dirección x,y\"])"
      ]
    },
    {
      "cell_type": "code",
      "execution_count": null,
      "metadata": {},
      "outputs": [],
      "source": [
        "sobelx = cv2.Sobel(src=building[400:600,400:500], ddepth=cv2.CV_8U, dx=1, dy=0, ksize=5) # Sobel Edge Detection on the X axis\n",
        "sobely = cv2.Sobel(src=building[400:600,400:500], ddepth=cv2.CV_8U, dx=0, dy=1, ksize=5) # Sobel Edge Detection on the Y axis\n",
        "sobelxy = cv2.Sobel(src=building[400:600,400:500], ddepth=cv2.CV_8U, dx=1, dy=1, ksize=5) # Combined X and Y Sobel Edge Detection\n",
        "\n",
        "plot_images([building[400:600,400:500], sobelx, sobely, sobelxy], [\"Original\", \"Sobel en la dirección x\", \"Sobel en la dirección y\", \"Sobel en la dirección x,y\"])"
      ]
    },
    {
      "cell_type": "code",
      "execution_count": null,
      "metadata": {},
      "outputs": [],
      "source": [
        "blurred_building = cv2.blur(building, (5, 5))\n",
        "\n",
        "sobelx = cv2.Sobel(src=blurred_building[:800,:800], ddepth=cv2.CV_8U, dx=1, dy=0, ksize=5) # Sobel Edge Detection on the X axis\n",
        "sobely = cv2.Sobel(src=blurred_building[:800,:800], ddepth=cv2.CV_8U, dx=0, dy=1, ksize=5) # Sobel Edge Detection on the Y axis\n",
        "sobelxy = cv2.Sobel(src=blurred_building[:800,:800], ddepth=cv2.CV_8U, dx=1, dy=1, ksize=5) # Combined X and Y Sobel Edge Detection\n",
        "\n",
        "plot_images([blurred_building[:800,:800], sobelx, sobely, sobelxy], [\"Blurred\", \"Sobel en la dirección x\", \"Sobel en la dirección y\", \"Sobel en la dirección x,y\"])"
      ]
    },
    {
      "cell_type": "code",
      "execution_count": null,
      "metadata": {},
      "outputs": [],
      "source": [
        "sobelx = cv2.Sobel(src=cell, ddepth=cv2.CV_8U, dx=1, dy=0, ksize=5) # Sobel Edge Detection on the X axis\n",
        "sobely = cv2.Sobel(src=cell, ddepth=cv2.CV_8U, dx=0, dy=1, ksize=5) # Sobel Edge Detection on the Y axis\n",
        "sobelxy = cv2.Sobel(src=cell, ddepth=cv2.CV_8U, dx=1, dy=1, ksize=5) # Combined X and Y Sobel Edge Detection\n",
        "\n",
        "plot_images([cell, sobelx, sobely, sobelxy], [\"Original\", \"Sobel en la dirección x\", \"Sobel en la dirección y\", \"Sobel en la dirección x,y\"])"
      ]
    },
    {
      "cell_type": "code",
      "execution_count": null,
      "metadata": {},
      "outputs": [],
      "source": [
        "sobelx = cv2.Sobel(src=lenna, ddepth=cv2.CV_8U, dx=1, dy=0, ksize=5) # Sobel Edge Detection on the X axis\n",
        "sobely = cv2.Sobel(src=lenna, ddepth=cv2.CV_8U, dx=0, dy=1, ksize=5) # Sobel Edge Detection on the Y axis\n",
        "sobelxy = cv2.Sobel(src=lenna, ddepth=cv2.CV_8U, dx=1, dy=1, ksize=5) # Combined X and Y Sobel Edge Detection\n",
        "\n",
        "plot_images([lenna, sobelx, sobely, sobelxy], [\"Original\", \"Sobel en la dirección x\", \"Sobel en la dirección y\", \"Sobel en la dirección x,y\"])"
      ]
    },
    {
      "attachments": {},
      "cell_type": "markdown",
      "metadata": {},
      "source": [
        "### Métodos avanzados\n",
        "[https://github.com/adl1995/edge-detectors](https://github.com/adl1995/edge-detectors)\n",
        "\n",
        "#### El detector de bordes Marr-Hildreth\n",
        "El algoritmo para este detector se puede resumir en:\n",
        "\n",
        "1. Filtrar la imagen con un kernel pasabajas Gaussiano de n $\\times$ n.\n",
        "2. Aplicar el filtro laplaciano o derivada de segundo orden (Calcular el laplaciano de la imagen).\n",
        "3. Encontrar los pasos por cero (*[zero-crossings](https://en.wikipedia.org/wiki/Zero_crossing)*) en el laplaciano."
      ]
    },
    {
      "cell_type": "code",
      "execution_count": null,
      "metadata": {},
      "outputs": [],
      "source": [
        "def zero_crossings(LoG, t):\n",
        "    minLoG = cv2.morphologyEx(LoG, cv2.MORPH_ERODE, np.ones((3,3)))\n",
        "    maxLoG = cv2.morphologyEx(LoG, cv2.MORPH_DILATE, np.ones((3,3)))\n",
        "    return np.logical_or(np.logical_and(minLoG < -t,  LoG > t), np.logical_and(maxLoG > t, LoG < -t))"
      ]
    },
    {
      "cell_type": "code",
      "execution_count": null,
      "metadata": {},
      "outputs": [],
      "source": [
        "gaussian_building = cv2.GaussianBlur(building, ksize=(3, 3), sigmaX=building.shape[0]*0.005)\n",
        "laplacian_building = cv2.Laplacian(gaussian_building, ddepth=cv2.CV_32F, ksize=7)\n",
        "marr_edges_building = zero_crossings(laplacian_building, laplacian_building.max()*0.04)\n",
        "plot_images([building, gaussian_building, laplacian_building, marr_edges_building])\n",
        "plot_images([building[:800,:800], gaussian_building[:800,:800], laplacian_building[:800,:800], marr_edges_building[:800,:800]])"
      ]
    },
    {
      "cell_type": "code",
      "execution_count": null,
      "metadata": {},
      "outputs": [],
      "source": [
        "gaussian_lenna = cv2.GaussianBlur(lenna, ksize=(3, 3), sigmaX=lenna.shape[0]*0.005)\n",
        "laplacian_lenna = cv2.Laplacian(gaussian_lenna, ddepth=cv2.CV_32F, ksize=3)\n",
        "marr_edges_lenna = zero_crossings(laplacian_lenna, laplacian_lenna.max()*0.04)\n",
        "plot_images([lenna, gaussian_lenna, laplacian_lenna, marr_edges_lenna])"
      ]
    },
    {
      "cell_type": "code",
      "execution_count": null,
      "metadata": {},
      "outputs": [],
      "source": [
        "gaussian_cell = cv2.GaussianBlur(cell, ksize=(3, 3), sigmaX=cell.shape[0]*0.005)\n",
        "laplacian_cell = cv2.Laplacian(gaussian_cell, ddepth=cv2.CV_32F, ksize=3)\n",
        "marr_edges_cell = zero_crossings(laplacian_cell, laplacian_cell.max()*0.16)\n",
        "plot_images([cell, gaussian_cell, laplacian_cell, marr_edges_cell])"
      ]
    },
    {
      "attachments": {},
      "cell_type": "markdown",
      "metadata": {},
      "source": [
        "#### Canny"
      ]
    },
    {
      "cell_type": "code",
      "execution_count": null,
      "metadata": {},
      "outputs": [],
      "source": [
        "canny_building = cv2.Canny(building, 100, 300)\n",
        "plot_images([building, canny_building])\n",
        "plot_images([building[:800,:800], canny_building[:800,:800]])"
      ]
    },
    {
      "cell_type": "code",
      "execution_count": null,
      "metadata": {},
      "outputs": [],
      "source": []
    }
  ],
  "metadata": {
    "colab": {
      "provenance": []
    },
    "kernelspec": {
      "display_name": "dip",
      "language": "python",
      "name": "python3"
    },
    "language_info": {
      "codemirror_mode": {
        "name": "ipython",
        "version": 3
      },
      "file_extension": ".py",
      "mimetype": "text/x-python",
      "name": "python",
      "nbconvert_exporter": "python",
      "pygments_lexer": "ipython3",
      "version": "3.11.2"
    },
    "orig_nbformat": 4,
    "vscode": {
      "interpreter": {
        "hash": "2ee78bf6d3c55ab8d976b00cd533f0c8b1f102162595d6dc238528d9a3be5ad3"
      }
    }
  },
  "nbformat": 4,
  "nbformat_minor": 0
}
